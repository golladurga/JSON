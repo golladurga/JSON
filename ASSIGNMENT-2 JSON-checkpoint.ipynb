{
 "cells": [
  {
   "cell_type": "code",
   "execution_count": 1,
   "id": "3a5fbe38",
   "metadata": {},
   "outputs": [
    {
     "name": "stdout",
     "output_type": "stream",
     "text": [
      "Name: Max\n",
      "Age: 5\n",
      "Coat color: Brown\n",
      "\n",
      "Name: Buddy\n",
      "Age: 3\n",
      "Coat color: White\n",
      "\n",
      "Name: Rocky\n",
      "Age: 4\n",
      "Coat color: Brindle\n",
      "\n",
      "Buddy is fetching a ball.\n",
      "Buddy is barking loudly!\n",
      "\n",
      "Rocky is taking a nap.\n",
      "Rocky is drooling.\n"
     ]
    }
   ],
   "source": [
    "class Dog:\n",
    "    def __init__(self, name, age, coat_color):\n",
    "        self.name = name\n",
    "        self.age = age\n",
    "        self.coat_color = coat_color\n",
    "\n",
    "    def description(self):\n",
    "        print(f\"Name: {self.name}\")\n",
    "        print(f\"Age: {self.age}\")\n",
    "\n",
    "    def get_info(self):\n",
    "        print(f\"Coat color: {self.coat_color}\")\n",
    "\n",
    "\n",
    "class JackRussellTerrier(Dog):\n",
    "    def __init__(self, name, age, coat_color):\n",
    "        super().__init__(name, age, coat_color)\n",
    "\n",
    "    def fetch(self):\n",
    "        print(f\"{self.name} is fetching a ball.\")\n",
    "\n",
    "    def bark(self):\n",
    "        print(f\"{self.name} is barking loudly!\")\n",
    "\n",
    "\n",
    "class Bulldog(Dog):\n",
    "    def __init__(self, name, age, coat_color):\n",
    "        super().__init__(name, age, coat_color)\n",
    "\n",
    "    def sleep(self):\n",
    "        print(f\"{self.name} is taking a nap.\")\n",
    "\n",
    "    def drool(self):\n",
    "        print(f\"{self.name} is drooling.\")\n",
    "\n",
    "\n",
    "# Creating Dog objects\n",
    "dog1 = Dog(\"Max\", 5, \"Brown\")\n",
    "dog2 = JackRussellTerrier(\"Buddy\", 3, \"White\")\n",
    "dog3 = Bulldog(\"Rocky\", 4, \"Brindle\")\n",
    "\n",
    "# Calling the description() and get_info() functions\n",
    "dog1.description()\n",
    "dog1.get_info()\n",
    "print()\n",
    "\n",
    "dog2.description()\n",
    "dog2.get_info()\n",
    "print()\n",
    "\n",
    "dog3.description()\n",
    "dog3.get_info()\n",
    "print()\n",
    "\n",
    "# Calling the methods specific to JackRussellTerrier and Bulldog classes\n",
    "dog2.fetch()\n",
    "dog2.bark()\n",
    "print()\n",
    "\n",
    "dog3.sleep()\n",
    "dog3.drool()\n"
   ]
  },
  {
   "cell_type": "code",
   "execution_count": null,
   "id": "99383257",
   "metadata": {},
   "outputs": [],
   "source": []
  }
 ],
 "metadata": {
  "kernelspec": {
   "display_name": "Python 3 (ipykernel)",
   "language": "python",
   "name": "python3"
  },
  "language_info": {
   "codemirror_mode": {
    "name": "ipython",
    "version": 3
   },
   "file_extension": ".py",
   "mimetype": "text/x-python",
   "name": "python",
   "nbconvert_exporter": "python",
   "pygments_lexer": "ipython3",
   "version": "3.10.9"
  }
 },
 "nbformat": 4,
 "nbformat_minor": 5
}
